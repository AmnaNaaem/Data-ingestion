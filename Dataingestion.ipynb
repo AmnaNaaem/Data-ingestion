{
  "nbformat": 4,
  "nbformat_minor": 0,
  "metadata": {
    "colab": {
      "name": "Dataingestion.ipynb",
      "provenance": []
    },
    "kernelspec": {
      "name": "python3",
      "display_name": "Python 3"
    },
    "language_info": {
      "name": "python"
    }
  },
  "cells": [
    {
      "cell_type": "markdown",
      "metadata": {
        "id": "Zdvoj-VWodq6"
      },
      "source": [
        "**Dataingestion, Google colab and Yaml:**\n",
        "\n",
        "Data ingestion is performed for large csv file size>2GB downloaded from Kaggle using Google Colab and Yaml schema. The test data is also created and saved in gz format. How to read the rows, columns and filesize is also presented in this notebook."
      ]
    },
    {
      "cell_type": "code",
      "metadata": {
        "id": "sBoBkYzqkCe4"
      },
      "source": [
        "from google.colab import drive"
      ],
      "execution_count": null,
      "outputs": []
    },
    {
      "cell_type": "code",
      "metadata": {
        "colab": {
          "base_uri": "https://localhost:8080/"
        },
        "id": "Nn108Hplkb-I",
        "outputId": "1fdb98ad-7111-4dd8-d0db-76f5fd4d6e64"
      },
      "source": [
        "drive.mount('/content/drive')"
      ],
      "execution_count": null,
      "outputs": [
        {
          "output_type": "stream",
          "name": "stdout",
          "text": [
            "Drive already mounted at /content/drive; to attempt to forcibly remount, call drive.mount(\"/content/drive\", force_remount=True).\n"
          ]
        }
      ]
    },
    {
      "cell_type": "code",
      "metadata": {
        "colab": {
          "base_uri": "https://localhost:8080/"
        },
        "id": "Fnymmv7nkcRY",
        "outputId": "03044fb2-f561-4ede-c69f-2b1e7a324eda"
      },
      "source": [
        "%%writefile testutility.py\n",
        "import logging\n",
        "import os\n",
        "import subprocess\n",
        "import yaml\n",
        "import pandas as pd\n",
        "import datetime \n",
        "import gc\n",
        "import re\n",
        "\n",
        "\n",
        "################\n",
        "# File Reading #\n",
        "################\n",
        "\n",
        "def read_config_file(filepath):\n",
        "    with open(filepath, 'r') as stream:\n",
        "        try:\n",
        "            return yaml.safe_load(stream)\n",
        "        except yaml.YAMLError as exc:\n",
        "            logging.error(exc)\n",
        "\n",
        "\n",
        "def replacer(string, char):\n",
        "    pattern = char + '{2,}'\n",
        "    string = re.sub(pattern, char, string) \n",
        "    return string\n",
        "\n",
        "def col_header_val(df,table_config):\n",
        "    '''\n",
        "    replace whitespaces in the column\n",
        "    and standardized column names\n",
        "    '''\n",
        "    df.columns = df.columns.str.lower()\n",
        "    df.columns = df.columns.str.replace('[^\\w]','_',regex=True)\n",
        "    df.columns = list(map(lambda x: x.strip('_'), list(df.columns)))\n",
        "    df.columns = list(map(lambda x: replacer(x,'_'), list(df.columns)))\n",
        "    expected_col = list(map(lambda x: x.lower(),  table_config['columns']))\n",
        "    expected_col.sort()\n",
        "    df.columns =list(map(lambda x: x.lower(), list(df.columns)))\n",
        "    df = df.reindex(sorted(df.columns), axis=1)\n",
        "    if len(df.columns) == len(expected_col) and list(expected_col)  == list(df.columns):\n",
        "        print(\"column name and column length validation passed\")\n",
        "        return 1\n",
        "    else:\n",
        "        print(\"column name and column length validation failed\")\n",
        "        mismatched_columns_file = list(set(df.columns).difference(expected_col))\n",
        "        print(\"Following File columns are not in the YAML file\",mismatched_columns_file)\n",
        "        missing_YAML_file = list(set(expected_col).difference(df.columns))\n",
        "        print(\"Following YAML columns are not in the file uploaded\",missing_YAML_file)\n",
        "        logging.info(f'df columns: {df.columns}')\n",
        "        logging.info(f'expected columns: {expected_col}')\n",
        "        return 0\n"
      ],
      "execution_count": null,
      "outputs": [
        {
          "output_type": "stream",
          "name": "stdout",
          "text": [
            "Overwriting testutility.py\n"
          ]
        }
      ]
    },
    {
      "cell_type": "code",
      "metadata": {
        "colab": {
          "base_uri": "https://localhost:8080/"
        },
        "id": "IJWxH87BlQhs",
        "outputId": "33bdba2d-1cca-4a6c-be27-b658a28ff7b0"
      },
      "source": [
        "%%writefile parkinglot.yaml\n",
        "file_type: csv\n",
        "dataset_name: parkingviolation\n",
        "file_name: parking_violation\n",
        "table_name: edsurv\n",
        "inbound_delimiter: \",\"\n",
        "outbound_delimiter: \"|\"\n",
        "skip_leading_rows: 1\n",
        "columns: \n",
        "    - Plate_ID\n",
        "    - Plate_Type\n",
        "    - Violation"
      ],
      "execution_count": null,
      "outputs": [
        {
          "output_type": "stream",
          "name": "stdout",
          "text": [
            "Overwriting parkinglot.yaml\n"
          ]
        }
      ]
    },
    {
      "cell_type": "code",
      "metadata": {
        "id": "mx-2HspRldp0"
      },
      "source": [
        "import testutility as util\n",
        "config_data = util.read_config_file(\"parkinglot.yaml\")"
      ],
      "execution_count": null,
      "outputs": []
    },
    {
      "cell_type": "code",
      "metadata": {
        "colab": {
          "base_uri": "https://localhost:8080/",
          "height": 35
        },
        "id": "wcfYngIcmDgD",
        "outputId": "4422eb89-5d14-42b7-b98a-63f8065500f3"
      },
      "source": [
        "config_data['inbound_delimiter']"
      ],
      "execution_count": null,
      "outputs": [
        {
          "output_type": "execute_result",
          "data": {
            "application/vnd.google.colaboratory.intrinsic+json": {
              "type": "string"
            },
            "text/plain": [
              "','"
            ]
          },
          "metadata": {},
          "execution_count": 6
        }
      ]
    },
    {
      "cell_type": "code",
      "metadata": {
        "colab": {
          "base_uri": "https://localhost:8080/"
        },
        "id": "noxVmTzQmEAg",
        "outputId": "a1074ccf-bc94-494a-f1f7-c2908e53ef44"
      },
      "source": [
        "config_data"
      ],
      "execution_count": null,
      "outputs": [
        {
          "output_type": "execute_result",
          "data": {
            "text/plain": [
              "{'columns': ['Plate_ID', 'Plate_Type', 'Violation'],\n",
              " 'dataset_name': 'parkingviolation',\n",
              " 'file_name': 'parking_violation',\n",
              " 'file_type': 'csv',\n",
              " 'inbound_delimiter': ',',\n",
              " 'outbound_delimiter': '|',\n",
              " 'skip_leading_rows': 1,\n",
              " 'table_name': 'edsurv'}"
            ]
          },
          "metadata": {},
          "execution_count": 7
        }
      ]
    },
    {
      "cell_type": "code",
      "metadata": {
        "colab": {
          "base_uri": "https://localhost:8080/"
        },
        "id": "OwEnoaGwwx6C",
        "outputId": "edd79fc6-1f11-4585-b933-d6b6f9b0583c"
      },
      "source": [
        "config_data"
      ],
      "execution_count": null,
      "outputs": [
        {
          "output_type": "execute_result",
          "data": {
            "text/plain": [
              "{'columns': ['Plate_ID', 'Plate_Type', 'Violation'],\n",
              " 'dataset_name': 'parkingviolation',\n",
              " 'file_name': 'parking_violation',\n",
              " 'file_type': 'csv',\n",
              " 'inbound_delimiter': ',',\n",
              " 'outbound_delimiter': '|',\n",
              " 'skip_leading_rows': 1,\n",
              " 'table_name': 'edsurv'}"
            ]
          },
          "metadata": {},
          "execution_count": 8
        }
      ]
    },
    {
      "cell_type": "code",
      "metadata": {
        "id": "6uMoNGxvwysq"
      },
      "source": [
        "import pandas as pd\n",
        "df=pd.read_csv('/content/drive/MyDrive/dataglacier/parking_violation.csv',delimiter=',',chunksize=10000)"
      ],
      "execution_count": null,
      "outputs": []
    },
    {
      "cell_type": "code",
      "metadata": {
        "colab": {
          "base_uri": "https://localhost:8080/"
        },
        "id": "3ZpsdVDnwy8J",
        "outputId": "8f31af81-58df-4fcd-941d-2cf87d557731"
      },
      "source": [
        "file_type = config_data['file_type']\n",
        "source_file = \"./\" + config_data['file_name'] + f'.{file_type}'\n",
        "print(\"\",source_file)"
      ],
      "execution_count": null,
      "outputs": [
        {
          "output_type": "stream",
          "name": "stdout",
          "text": [
            " ./parking_violation.csv\n"
          ]
        }
      ]
    },
    {
      "cell_type": "code",
      "metadata": {
        "id": "We3g7epUxTkj"
      },
      "source": [
        "file_type = config_data['file_type']\n",
        "source_file = \"/content/drive/MyDrive/dataglacier/\" + config_data['file_name'] + f'.{file_type}'\n",
        "#print(\"\",source_file)\n",
        "df = pd.read_csv(source_file,config_data['inbound_delimiter'],nrows=10000)"
      ],
      "execution_count": null,
      "outputs": []
    },
    {
      "cell_type": "code",
      "metadata": {
        "colab": {
          "base_uri": "https://localhost:8080/"
        },
        "id": "V_J2PHN_y2nL",
        "outputId": "9ca0b731-1599-4039-edd2-4f1b2f65eb94"
      },
      "source": [
        "#validate the header of the file\n",
        "util.col_header_val(df,config_data)"
      ],
      "execution_count": null,
      "outputs": [
        {
          "output_type": "stream",
          "name": "stdout",
          "text": [
            "column name and column length validation failed\n",
            "Following File columns are not in the YAML file ['hydrant_violation', 'house_number', 'issuer_squad', 'registration_state', 'intersecting_street', 'vehicle_body_type', 'violation_location', 'bbl', 'date_first_observed', 'month', 'street_code3', 'time_first_observed', 'violation_in_front_of_or_opposite', 'year', 'from_hours_in_effect', 'vehicle_expiration_date', 'street_code1', 'summons_number', 'vehicle_make', 'violation_post_code', 'bin', 'street_name', 'unregistered_vehicle', 'issue_date', 'community_council', 'meter_number', 'unnamed_0', 'violation_description', 'to_hours_in_effect', 'longitude', 'days_parking_in_effect', 'vehicle_color', 'issuer_command', 'violation_legal_code', 'sub_division', 'violation_county', 'feet_from_curb', 'nta', 'community_board', 'issuer_precinct', 'vehicle_year', 'violation_code', 'violation_precinct', 'issuer_code', 'no_standing_or_stopping_violation', 'latitude', 'law_section', 'violation_time', 'census_tract', 'street_code2', 'double_parking_violation', 'issuing_agency']\n",
            "Following YAML columns are not in the file uploaded ['violation']\n"
          ]
        },
        {
          "output_type": "execute_result",
          "data": {
            "text/plain": [
              "0"
            ]
          },
          "metadata": {},
          "execution_count": 15
        }
      ]
    },
    {
      "cell_type": "code",
      "metadata": {
        "colab": {
          "base_uri": "https://localhost:8080/"
        },
        "id": "-Fvjfjehy4XO",
        "outputId": "f9857e51-1cee-4e2e-b7d0-1804971dcef4"
      },
      "source": [
        "print(\"columns of files are:\" ,df.columns)\n",
        "print(\"columns of YAML are:\" ,config_data['columns'])"
      ],
      "execution_count": null,
      "outputs": [
        {
          "output_type": "stream",
          "name": "stdout",
          "text": [
            "columns of files are: Index(['unnamed_0', 'summons_number', 'plate_id', 'registration_state',\n",
            "       'plate_type', 'issue_date', 'violation_code', 'vehicle_body_type',\n",
            "       'vehicle_make', 'issuing_agency', 'street_code1', 'street_code2',\n",
            "       'street_code3', 'vehicle_expiration_date', 'violation_location',\n",
            "       'violation_precinct', 'issuer_precinct', 'issuer_code',\n",
            "       'issuer_command', 'issuer_squad', 'violation_time',\n",
            "       'time_first_observed', 'violation_county',\n",
            "       'violation_in_front_of_or_opposite', 'house_number', 'street_name',\n",
            "       'intersecting_street', 'date_first_observed', 'law_section',\n",
            "       'sub_division', 'violation_legal_code', 'days_parking_in_effect',\n",
            "       'from_hours_in_effect', 'to_hours_in_effect', 'vehicle_color',\n",
            "       'unregistered_vehicle', 'vehicle_year', 'meter_number',\n",
            "       'feet_from_curb', 'violation_post_code', 'violation_description',\n",
            "       'no_standing_or_stopping_violation', 'hydrant_violation',\n",
            "       'double_parking_violation', 'latitude', 'longitude', 'community_board',\n",
            "       'community_council', 'census_tract', 'bin', 'bbl', 'nta', 'year',\n",
            "       'month'],\n",
            "      dtype='object')\n",
            "columns of YAML are: ['Plate_ID', 'Plate_Type', 'Violation']\n"
          ]
        }
      ]
    },
    {
      "cell_type": "code",
      "metadata": {
        "colab": {
          "base_uri": "https://localhost:8080/"
        },
        "id": "Rn30GFA5xT7L",
        "outputId": "e07feca7-4b7b-49f0-8a66-01db6370ae45"
      },
      "source": [
        "#validate the header of the file\n",
        "util.col_header_val(df,config_data)"
      ],
      "execution_count": null,
      "outputs": [
        {
          "output_type": "stream",
          "name": "stdout",
          "text": [
            "column name and column length validation failed\n",
            "Following File columns are not in the YAML file ['hydrant_violation', 'house_number', 'issuer_squad', 'registration_state', 'intersecting_street', 'vehicle_body_type', 'violation_location', 'bbl', 'date_first_observed', 'month', 'street_code3', 'time_first_observed', 'violation_in_front_of_or_opposite', 'year', 'from_hours_in_effect', 'vehicle_expiration_date', 'street_code1', 'summons_number', 'vehicle_make', 'violation_post_code', 'bin', 'street_name', 'unregistered_vehicle', 'issue_date', 'community_council', 'meter_number', 'unnamed_0', 'violation_description', 'to_hours_in_effect', 'longitude', 'days_parking_in_effect', 'vehicle_color', 'issuer_command', 'violation_legal_code', 'sub_division', 'violation_county', 'feet_from_curb', 'nta', 'community_board', 'issuer_precinct', 'vehicle_year', 'violation_code', 'violation_precinct', 'issuer_code', 'no_standing_or_stopping_violation', 'latitude', 'law_section', 'violation_time', 'census_tract', 'street_code2', 'double_parking_violation', 'issuing_agency']\n",
            "Following YAML columns are not in the file uploaded ['violation']\n"
          ]
        },
        {
          "output_type": "execute_result",
          "data": {
            "text/plain": [
              "0"
            ]
          },
          "metadata": {},
          "execution_count": 17
        }
      ]
    },
    {
      "cell_type": "code",
      "metadata": {
        "colab": {
          "base_uri": "https://localhost:8080/"
        },
        "id": "sZaJhVDjxUfq",
        "outputId": "9ef43d6c-0bb8-4885-d8bb-b3d0a560dc7f"
      },
      "source": [
        "print(\"columns of files are:\" ,df.columns)\n",
        "print(\"columns of YAML are:\" ,config_data['columns'])"
      ],
      "execution_count": null,
      "outputs": [
        {
          "output_type": "stream",
          "name": "stdout",
          "text": [
            "columns of files are: Index(['unnamed_0', 'summons_number', 'plate_id', 'registration_state',\n",
            "       'plate_type', 'issue_date', 'violation_code', 'vehicle_body_type',\n",
            "       'vehicle_make', 'issuing_agency', 'street_code1', 'street_code2',\n",
            "       'street_code3', 'vehicle_expiration_date', 'violation_location',\n",
            "       'violation_precinct', 'issuer_precinct', 'issuer_code',\n",
            "       'issuer_command', 'issuer_squad', 'violation_time',\n",
            "       'time_first_observed', 'violation_county',\n",
            "       'violation_in_front_of_or_opposite', 'house_number', 'street_name',\n",
            "       'intersecting_street', 'date_first_observed', 'law_section',\n",
            "       'sub_division', 'violation_legal_code', 'days_parking_in_effect',\n",
            "       'from_hours_in_effect', 'to_hours_in_effect', 'vehicle_color',\n",
            "       'unregistered_vehicle', 'vehicle_year', 'meter_number',\n",
            "       'feet_from_curb', 'violation_post_code', 'violation_description',\n",
            "       'no_standing_or_stopping_violation', 'hydrant_violation',\n",
            "       'double_parking_violation', 'latitude', 'longitude', 'community_board',\n",
            "       'community_council', 'census_tract', 'bin', 'bbl', 'nta', 'year',\n",
            "       'month'],\n",
            "      dtype='object')\n",
            "columns of YAML are: ['Plate_ID', 'Plate_Type', 'Violation']\n"
          ]
        }
      ]
    },
    {
      "cell_type": "code",
      "metadata": {
        "colab": {
          "base_uri": "https://localhost:8080/"
        },
        "id": "Y_6yGJoG0VtC",
        "outputId": "c6207e1d-3bfd-4c3b-9add-560210aa49a9"
      },
      "source": [
        "if util.col_header_val(df,config_data)==0:\n",
        "    print(\"validation failed\")\n",
        "    # write code to reject the file\n",
        "else:\n",
        "    print(\"col validation passed\")\n",
        "    # write the code to perform further action\n",
        "    # in the pipleine"
      ],
      "execution_count": null,
      "outputs": [
        {
          "output_type": "stream",
          "name": "stdout",
          "text": [
            "column name and column length validation failed\n",
            "Following File columns are not in the YAML file ['hydrant_violation', 'house_number', 'issuer_squad', 'registration_state', 'intersecting_street', 'vehicle_body_type', 'violation_location', 'bbl', 'date_first_observed', 'month', 'street_code3', 'time_first_observed', 'violation_in_front_of_or_opposite', 'year', 'from_hours_in_effect', 'vehicle_expiration_date', 'street_code1', 'summons_number', 'vehicle_make', 'violation_post_code', 'bin', 'street_name', 'unregistered_vehicle', 'issue_date', 'community_council', 'meter_number', 'unnamed_0', 'violation_description', 'to_hours_in_effect', 'longitude', 'days_parking_in_effect', 'vehicle_color', 'issuer_command', 'violation_legal_code', 'sub_division', 'violation_county', 'feet_from_curb', 'nta', 'community_board', 'issuer_precinct', 'vehicle_year', 'violation_code', 'violation_precinct', 'issuer_code', 'no_standing_or_stopping_violation', 'latitude', 'law_section', 'violation_time', 'census_tract', 'street_code2', 'double_parking_violation', 'issuing_agency']\n",
            "Following YAML columns are not in the file uploaded ['violation']\n",
            "validation failed\n"
          ]
        }
      ]
    },
    {
      "cell_type": "code",
      "metadata": {
        "id": "7rxXAbPb0WAf"
      },
      "source": [
        "testdata = {\n",
        "    'Plate_ID' : ['GBB9093', '78755JZ', 'T60DAR','GBH9379'],\n",
        "    'Plate_Type' : ['PAS', 'COM', 'COM','PAS'],\n",
        "    'Violation' : [46, 14,24,46]\n",
        "}\n",
        "import pandas as pd\n",
        "df = pd.DataFrame(testdata, columns=['Plate_ID', 'Plate_Type','Violation'])\n",
        "df.to_csv(\"test_data.csv\",index=False)"
      ],
      "execution_count": null,
      "outputs": []
    },
    {
      "cell_type": "code",
      "metadata": {
        "colab": {
          "base_uri": "https://localhost:8080/",
          "height": 173
        },
        "id": "tY99lIc60WP0",
        "outputId": "c1859a41-9122-459c-aae3-c3b008fc3f4f"
      },
      "source": [
        "df"
      ],
      "execution_count": null,
      "outputs": [
        {
          "output_type": "execute_result",
          "data": {
            "text/html": [
              "<div>\n",
              "<style scoped>\n",
              "    .dataframe tbody tr th:only-of-type {\n",
              "        vertical-align: middle;\n",
              "    }\n",
              "\n",
              "    .dataframe tbody tr th {\n",
              "        vertical-align: top;\n",
              "    }\n",
              "\n",
              "    .dataframe thead th {\n",
              "        text-align: right;\n",
              "    }\n",
              "</style>\n",
              "<table border=\"1\" class=\"dataframe\">\n",
              "  <thead>\n",
              "    <tr style=\"text-align: right;\">\n",
              "      <th></th>\n",
              "      <th>Plate_ID</th>\n",
              "      <th>Plate_Type</th>\n",
              "      <th>Violation</th>\n",
              "    </tr>\n",
              "  </thead>\n",
              "  <tbody>\n",
              "    <tr>\n",
              "      <th>0</th>\n",
              "      <td>GBB9093</td>\n",
              "      <td>PAS</td>\n",
              "      <td>46</td>\n",
              "    </tr>\n",
              "    <tr>\n",
              "      <th>1</th>\n",
              "      <td>78755JZ</td>\n",
              "      <td>COM</td>\n",
              "      <td>14</td>\n",
              "    </tr>\n",
              "    <tr>\n",
              "      <th>2</th>\n",
              "      <td>T60DAR</td>\n",
              "      <td>COM</td>\n",
              "      <td>24</td>\n",
              "    </tr>\n",
              "    <tr>\n",
              "      <th>3</th>\n",
              "      <td>GBH9379</td>\n",
              "      <td>PAS</td>\n",
              "      <td>46</td>\n",
              "    </tr>\n",
              "  </tbody>\n",
              "</table>\n",
              "</div>"
            ],
            "text/plain": [
              "  Plate_ID Plate_Type  Violation\n",
              "0  GBB9093        PAS         46\n",
              "1  78755JZ        COM         14\n",
              "2   T60DAR        COM         24\n",
              "3  GBH9379        PAS         46"
            ]
          },
          "metadata": {},
          "execution_count": 21
        }
      ]
    },
    {
      "cell_type": "code",
      "metadata": {
        "id": "rfh3h1ZJ3bYh"
      },
      "source": [
        "import gzip"
      ],
      "execution_count": null,
      "outputs": []
    },
    {
      "cell_type": "code",
      "metadata": {
        "id": "gOHUenXo2WMD"
      },
      "source": [
        "df.to_csv(r'/content/drive/MyDrive/dataglacier/testviolation.gz',sep = '|', index=False,compression='gzip')"
      ],
      "execution_count": null,
      "outputs": []
    },
    {
      "cell_type": "code",
      "metadata": {
        "id": "CjEF35sL8oNq"
      },
      "source": [
        "Size of the file:"
      ],
      "execution_count": null,
      "outputs": []
    },
    {
      "cell_type": "code",
      "metadata": {
        "colab": {
          "base_uri": "https://localhost:8080/"
        },
        "id": "G2xA5Xj247_i",
        "outputId": "bb922b61-bd32-4c16-c097-a3b07e529521"
      },
      "source": [
        "import os\n",
        "import struct\n",
        "\n",
        "with open(r'/content/drive/MyDrive/dataglacier/testviolation.gz',\"rb\") as f:\n",
        "    f.seek(-4, os.SEEK_END)\n",
        "    size, = struct.unpack(\"<I\", f.read(4))\n",
        "    print (size)\n",
        "        "
      ],
      "execution_count": null,
      "outputs": [
        {
          "output_type": "stream",
          "name": "stdout",
          "text": [
            "89\n"
          ]
        }
      ]
    },
    {
      "cell_type": "markdown",
      "metadata": {
        "id": "wrnJ14dR8jN8"
      },
      "source": [
        "No of Rows:"
      ]
    },
    {
      "cell_type": "code",
      "metadata": {
        "colab": {
          "base_uri": "https://localhost:8080/"
        },
        "id": "K5u_oucf48Wh",
        "outputId": "6d18c8e7-a120-4ad8-fe2f-eda58d3eec6e"
      },
      "source": [
        "myfile=r'/content/drive/MyDrive/dataglacier/testviolation.gz'\n",
        "with gzip.open(myfile, 'rb') as f:\n",
        "    for i, l in enumerate(f):\n",
        "        pass\n",
        "print(\"File {1} contain {0} lines\".format(i + 1, myfile))\n",
        "with gzip.open(myfile, 'rb') as f:\n",
        "    for i, l in enumerate(f):\n",
        "        pass\n",
        "print(\"File {1} contain {0} lines\".format(i + 1, myfile))"
      ],
      "execution_count": null,
      "outputs": [
        {
          "output_type": "stream",
          "name": "stdout",
          "text": [
            "File /content/drive/MyDrive/dataglacier/testviolation.gz contain 5 lines\n",
            "File /content/drive/MyDrive/dataglacier/testviolation.gz contain 5 lines\n"
          ]
        }
      ]
    },
    {
      "cell_type": "markdown",
      "metadata": {
        "id": "cNoEvDlT8f2s"
      },
      "source": [
        "No of Columns:"
      ]
    },
    {
      "cell_type": "code",
      "metadata": {
        "colab": {
          "base_uri": "https://localhost:8080/"
        },
        "id": "yqTkEQV56bTE",
        "outputId": "7c6e20a8-11e8-4e5f-f222-e353f96fe876"
      },
      "source": [
        "import csv\n",
        "\n",
        "with gzip.open(myfile, 'rt') as gzf:\n",
        "    reader = csv.reader(gzf, dialect=csv.excel_tab)\n",
        "    print(len(next(reader)))"
      ],
      "execution_count": null,
      "outputs": [
        {
          "output_type": "stream",
          "name": "stdout",
          "text": [
            "1\n"
          ]
        }
      ]
    }
  ]
}