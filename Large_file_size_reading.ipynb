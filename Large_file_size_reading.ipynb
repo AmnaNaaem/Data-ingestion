{
  "nbformat": 4,
  "nbformat_minor": 0,
  "metadata": {
    "colab": {
      "name": "Large file size reading.ipynb",
      "provenance": [],
      "collapsed_sections": []
    },
    "kernelspec": {
      "display_name": "Python 3",
      "name": "python3"
    },
    "language_info": {
      "name": "python"
    }
  },
  "cells": [
    {
      "cell_type": "markdown",
      "metadata": {
        "id": "ssayKhRQlvDu"
      },
      "source": [
        "**LARGE CSV FILESIZE >2GB READING IN PYTHON:**\n",
        "The dataset of size greater than 2GB name parking violation is downloaded from Kaggle. The different reading methods are used to read the file like pandas, modin, ray and dask. But due to the size of dataset only dask method worked properly for the data. \n",
        "\n",
        "Google Colab is used for this project and data is uploaded to the folder in drive. "
      ]
    },
    {
      "cell_type": "code",
      "metadata": {
        "id": "LPiyavd4UNAm"
      },
      "source": [
        "from google.colab import drive"
      ],
      "execution_count": null,
      "outputs": []
    },
    {
      "cell_type": "code",
      "metadata": {
        "colab": {
          "base_uri": "https://localhost:8080/"
        },
        "id": "DVYcGummUfk-",
        "outputId": "b919c765-e0f7-4ef4-d888-ea1ab1954634"
      },
      "source": [
        "drive.mount('/content/drive')\n"
      ],
      "execution_count": null,
      "outputs": [
        {
          "output_type": "stream",
          "name": "stdout",
          "text": [
            "Drive already mounted at /content/drive; to attempt to forcibly remount, call drive.mount(\"/content/drive\", force_remount=True).\n"
          ]
        }
      ]
    },
    {
      "cell_type": "code",
      "metadata": {
        "colab": {
          "base_uri": "https://localhost:8080/"
        },
        "id": "dLzqiC6kd4Xz",
        "outputId": "7734e3a7-955c-4e10-fc35-43beb5850dbd"
      },
      "source": [
        "pip install modin"
      ],
      "execution_count": null,
      "outputs": [
        {
          "output_type": "stream",
          "name": "stdout",
          "text": [
            "Requirement already satisfied: modin in /usr/local/lib/python3.7/dist-packages (0.10.2)\n",
            "Requirement already satisfied: pandas==1.3.2 in /usr/local/lib/python3.7/dist-packages (from modin) (1.3.2)\n",
            "Requirement already satisfied: numpy>=1.16.5 in /usr/local/lib/python3.7/dist-packages (from modin) (1.19.5)\n",
            "Requirement already satisfied: packaging in /usr/local/lib/python3.7/dist-packages (from modin) (21.0)\n",
            "Requirement already satisfied: python-dateutil>=2.7.3 in /usr/local/lib/python3.7/dist-packages (from pandas==1.3.2->modin) (2.8.2)\n",
            "Requirement already satisfied: pytz>=2017.3 in /usr/local/lib/python3.7/dist-packages (from pandas==1.3.2->modin) (2018.9)\n",
            "Requirement already satisfied: six>=1.5 in /usr/local/lib/python3.7/dist-packages (from python-dateutil>=2.7.3->pandas==1.3.2->modin) (1.15.0)\n",
            "Requirement already satisfied: pyparsing>=2.0.2 in /usr/local/lib/python3.7/dist-packages (from packaging->modin) (2.4.7)\n"
          ]
        }
      ]
    },
    {
      "cell_type": "code",
      "metadata": {
        "colab": {
          "base_uri": "https://localhost:8080/"
        },
        "id": "yCXVj2twdOxk",
        "outputId": "def75432-2ab6-4131-a10a-faab99af9ae7"
      },
      "source": [
        "pip install modin[ray]"
      ],
      "execution_count": null,
      "outputs": [
        {
          "output_type": "stream",
          "name": "stdout",
          "text": [
            "Requirement already satisfied: modin[ray] in /usr/local/lib/python3.7/dist-packages (0.10.2)\n",
            "Requirement already satisfied: packaging in /usr/local/lib/python3.7/dist-packages (from modin[ray]) (21.0)\n",
            "Requirement already satisfied: numpy>=1.16.5 in /usr/local/lib/python3.7/dist-packages (from modin[ray]) (1.19.5)\n",
            "Requirement already satisfied: pandas==1.3.2 in /usr/local/lib/python3.7/dist-packages (from modin[ray]) (1.3.2)\n",
            "Requirement already satisfied: ray[default]>=1.4.0 in /usr/local/lib/python3.7/dist-packages (from modin[ray]) (1.6.0)\n",
            "Requirement already satisfied: pyarrow>=1.0 in /usr/local/lib/python3.7/dist-packages (from modin[ray]) (3.0.0)\n",
            "Requirement already satisfied: pytz>=2017.3 in /usr/local/lib/python3.7/dist-packages (from pandas==1.3.2->modin[ray]) (2018.9)\n",
            "Requirement already satisfied: python-dateutil>=2.7.3 in /usr/local/lib/python3.7/dist-packages (from pandas==1.3.2->modin[ray]) (2.8.2)\n",
            "Requirement already satisfied: six>=1.5 in /usr/local/lib/python3.7/dist-packages (from python-dateutil>=2.7.3->pandas==1.3.2->modin[ray]) (1.15.0)\n",
            "Requirement already satisfied: redis>=3.5.0 in /usr/local/lib/python3.7/dist-packages (from ray[default]>=1.4.0->modin[ray]) (3.5.3)\n",
            "Requirement already satisfied: attrs in /usr/local/lib/python3.7/dist-packages (from ray[default]>=1.4.0->modin[ray]) (21.2.0)\n",
            "Requirement already satisfied: filelock in /usr/local/lib/python3.7/dist-packages (from ray[default]>=1.4.0->modin[ray]) (3.0.12)\n",
            "Requirement already satisfied: msgpack<2.0.0,>=1.0.0 in /usr/local/lib/python3.7/dist-packages (from ray[default]>=1.4.0->modin[ray]) (1.0.2)\n",
            "Requirement already satisfied: pyyaml in /usr/local/lib/python3.7/dist-packages (from ray[default]>=1.4.0->modin[ray]) (3.13)\n",
            "Requirement already satisfied: grpcio>=1.28.1 in /usr/local/lib/python3.7/dist-packages (from ray[default]>=1.4.0->modin[ray]) (1.39.0)\n",
            "Requirement already satisfied: protobuf>=3.15.3 in /usr/local/lib/python3.7/dist-packages (from ray[default]>=1.4.0->modin[ray]) (3.17.3)\n",
            "Requirement already satisfied: click>=7.0 in /usr/local/lib/python3.7/dist-packages (from ray[default]>=1.4.0->modin[ray]) (7.1.2)\n",
            "Requirement already satisfied: colorful in /usr/local/lib/python3.7/dist-packages (from ray[default]>=1.4.0->modin[ray]) (0.5.4)\n",
            "Requirement already satisfied: prometheus-client>=0.7.1 in /usr/local/lib/python3.7/dist-packages (from ray[default]>=1.4.0->modin[ray]) (0.11.0)\n",
            "Requirement already satisfied: aiohttp-cors in /usr/local/lib/python3.7/dist-packages (from ray[default]>=1.4.0->modin[ray]) (0.7.0)\n",
            "Requirement already satisfied: gpustat in /usr/local/lib/python3.7/dist-packages (from ray[default]>=1.4.0->modin[ray]) (0.6.0)\n",
            "Requirement already satisfied: jsonschema in /usr/local/lib/python3.7/dist-packages (from ray[default]>=1.4.0->modin[ray]) (2.6.0)\n",
            "Requirement already satisfied: aiohttp in /usr/local/lib/python3.7/dist-packages (from ray[default]>=1.4.0->modin[ray]) (3.7.4.post0)\n",
            "Requirement already satisfied: requests in /usr/local/lib/python3.7/dist-packages (from ray[default]>=1.4.0->modin[ray]) (2.23.0)\n",
            "Requirement already satisfied: opencensus in /usr/local/lib/python3.7/dist-packages (from ray[default]>=1.4.0->modin[ray]) (0.7.13)\n",
            "Requirement already satisfied: aioredis<2 in /usr/local/lib/python3.7/dist-packages (from ray[default]>=1.4.0->modin[ray]) (1.3.1)\n",
            "Requirement already satisfied: py-spy>=0.2.0 in /usr/local/lib/python3.7/dist-packages (from ray[default]>=1.4.0->modin[ray]) (0.3.8)\n",
            "Requirement already satisfied: async-timeout in /usr/local/lib/python3.7/dist-packages (from aioredis<2->ray[default]>=1.4.0->modin[ray]) (3.0.1)\n",
            "Requirement already satisfied: hiredis in /usr/local/lib/python3.7/dist-packages (from aioredis<2->ray[default]>=1.4.0->modin[ray]) (2.0.0)\n",
            "Requirement already satisfied: typing-extensions>=3.6.5 in /usr/local/lib/python3.7/dist-packages (from aiohttp->ray[default]>=1.4.0->modin[ray]) (3.7.4.3)\n",
            "Requirement already satisfied: multidict<7.0,>=4.5 in /usr/local/lib/python3.7/dist-packages (from aiohttp->ray[default]>=1.4.0->modin[ray]) (5.1.0)\n",
            "Requirement already satisfied: yarl<2.0,>=1.0 in /usr/local/lib/python3.7/dist-packages (from aiohttp->ray[default]>=1.4.0->modin[ray]) (1.6.3)\n",
            "Requirement already satisfied: chardet<5.0,>=2.0 in /usr/local/lib/python3.7/dist-packages (from aiohttp->ray[default]>=1.4.0->modin[ray]) (3.0.4)\n",
            "Requirement already satisfied: idna>=2.0 in /usr/local/lib/python3.7/dist-packages (from yarl<2.0,>=1.0->aiohttp->ray[default]>=1.4.0->modin[ray]) (2.10)\n",
            "Requirement already satisfied: psutil in /usr/local/lib/python3.7/dist-packages (from gpustat->ray[default]>=1.4.0->modin[ray]) (5.4.8)\n",
            "Requirement already satisfied: nvidia-ml-py3>=7.352.0 in /usr/local/lib/python3.7/dist-packages (from gpustat->ray[default]>=1.4.0->modin[ray]) (7.352.0)\n",
            "Requirement already satisfied: blessings>=1.6 in /usr/local/lib/python3.7/dist-packages (from gpustat->ray[default]>=1.4.0->modin[ray]) (1.7)\n",
            "Requirement already satisfied: google-api-core<2.0.0,>=1.0.0 in /usr/local/lib/python3.7/dist-packages (from opencensus->ray[default]>=1.4.0->modin[ray]) (1.26.3)\n",
            "Requirement already satisfied: opencensus-context==0.1.2 in /usr/local/lib/python3.7/dist-packages (from opencensus->ray[default]>=1.4.0->modin[ray]) (0.1.2)\n",
            "Requirement already satisfied: setuptools>=40.3.0 in /usr/local/lib/python3.7/dist-packages (from google-api-core<2.0.0,>=1.0.0->opencensus->ray[default]>=1.4.0->modin[ray]) (57.4.0)\n",
            "Requirement already satisfied: googleapis-common-protos<2.0dev,>=1.6.0 in /usr/local/lib/python3.7/dist-packages (from google-api-core<2.0.0,>=1.0.0->opencensus->ray[default]>=1.4.0->modin[ray]) (1.53.0)\n",
            "Requirement already satisfied: google-auth<2.0dev,>=1.21.1 in /usr/local/lib/python3.7/dist-packages (from google-api-core<2.0.0,>=1.0.0->opencensus->ray[default]>=1.4.0->modin[ray]) (1.34.0)\n",
            "Requirement already satisfied: cachetools<5.0,>=2.0.0 in /usr/local/lib/python3.7/dist-packages (from google-auth<2.0dev,>=1.21.1->google-api-core<2.0.0,>=1.0.0->opencensus->ray[default]>=1.4.0->modin[ray]) (4.2.2)\n",
            "Requirement already satisfied: rsa<5,>=3.1.4 in /usr/local/lib/python3.7/dist-packages (from google-auth<2.0dev,>=1.21.1->google-api-core<2.0.0,>=1.0.0->opencensus->ray[default]>=1.4.0->modin[ray]) (4.7.2)\n",
            "Requirement already satisfied: pyasn1-modules>=0.2.1 in /usr/local/lib/python3.7/dist-packages (from google-auth<2.0dev,>=1.21.1->google-api-core<2.0.0,>=1.0.0->opencensus->ray[default]>=1.4.0->modin[ray]) (0.2.8)\n",
            "Requirement already satisfied: pyparsing>=2.0.2 in /usr/local/lib/python3.7/dist-packages (from packaging->modin[ray]) (2.4.7)\n",
            "Requirement already satisfied: pyasn1<0.5.0,>=0.4.6 in /usr/local/lib/python3.7/dist-packages (from pyasn1-modules>=0.2.1->google-auth<2.0dev,>=1.21.1->google-api-core<2.0.0,>=1.0.0->opencensus->ray[default]>=1.4.0->modin[ray]) (0.4.8)\n",
            "Requirement already satisfied: urllib3!=1.25.0,!=1.25.1,<1.26,>=1.21.1 in /usr/local/lib/python3.7/dist-packages (from requests->ray[default]>=1.4.0->modin[ray]) (1.24.3)\n",
            "Requirement already satisfied: certifi>=2017.4.17 in /usr/local/lib/python3.7/dist-packages (from requests->ray[default]>=1.4.0->modin[ray]) (2021.5.30)\n"
          ]
        }
      ]
    },
    {
      "cell_type": "code",
      "metadata": {
        "colab": {
          "base_uri": "https://localhost:8080/"
        },
        "id": "C4psmJBSeTMS",
        "outputId": "862c1c68-2456-4e0c-bc81-3b8d4585afef"
      },
      "source": [
        "pip install modin[dask]"
      ],
      "execution_count": null,
      "outputs": [
        {
          "output_type": "stream",
          "name": "stdout",
          "text": [
            "Requirement already satisfied: modin[dask] in /usr/local/lib/python3.7/dist-packages (0.10.2)\n",
            "Requirement already satisfied: numpy>=1.16.5 in /usr/local/lib/python3.7/dist-packages (from modin[dask]) (1.19.5)\n",
            "Requirement already satisfied: packaging in /usr/local/lib/python3.7/dist-packages (from modin[dask]) (21.0)\n",
            "Requirement already satisfied: pandas==1.3.2 in /usr/local/lib/python3.7/dist-packages (from modin[dask]) (1.3.2)\n",
            "Requirement already satisfied: distributed>=2.22.0 in /usr/local/lib/python3.7/dist-packages (from modin[dask]) (2021.8.1)\n",
            "Requirement already satisfied: dask>=2.22.0 in /usr/local/lib/python3.7/dist-packages (from modin[dask]) (2021.8.1)\n",
            "Requirement already satisfied: pytz>=2017.3 in /usr/local/lib/python3.7/dist-packages (from pandas==1.3.2->modin[dask]) (2018.9)\n",
            "Requirement already satisfied: python-dateutil>=2.7.3 in /usr/local/lib/python3.7/dist-packages (from pandas==1.3.2->modin[dask]) (2.8.2)\n",
            "Requirement already satisfied: toolz>=0.8.2 in /usr/local/lib/python3.7/dist-packages (from dask>=2.22.0->modin[dask]) (0.11.1)\n",
            "Requirement already satisfied: partd>=0.3.10 in /usr/local/lib/python3.7/dist-packages (from dask>=2.22.0->modin[dask]) (1.2.0)\n",
            "Requirement already satisfied: fsspec>=0.6.0 in /usr/local/lib/python3.7/dist-packages (from dask>=2.22.0->modin[dask]) (2021.8.1)\n",
            "Requirement already satisfied: pyyaml in /usr/local/lib/python3.7/dist-packages (from dask>=2.22.0->modin[dask]) (3.13)\n",
            "Requirement already satisfied: cloudpickle>=1.1.1 in /usr/local/lib/python3.7/dist-packages (from dask>=2.22.0->modin[dask]) (1.6.0)\n",
            "Requirement already satisfied: psutil>=5.0 in /usr/local/lib/python3.7/dist-packages (from distributed>=2.22.0->modin[dask]) (5.4.8)\n",
            "Requirement already satisfied: click>=6.6 in /usr/local/lib/python3.7/dist-packages (from distributed>=2.22.0->modin[dask]) (7.1.2)\n",
            "Requirement already satisfied: tornado>=5 in /usr/local/lib/python3.7/dist-packages (from distributed>=2.22.0->modin[dask]) (5.1.1)\n",
            "Requirement already satisfied: sortedcontainers!=2.0.0,!=2.0.1 in /usr/local/lib/python3.7/dist-packages (from distributed>=2.22.0->modin[dask]) (2.4.0)\n",
            "Requirement already satisfied: setuptools in /usr/local/lib/python3.7/dist-packages (from distributed>=2.22.0->modin[dask]) (57.4.0)\n",
            "Requirement already satisfied: zict>=0.1.3 in /usr/local/lib/python3.7/dist-packages (from distributed>=2.22.0->modin[dask]) (2.0.0)\n",
            "Requirement already satisfied: msgpack>=0.6.0 in /usr/local/lib/python3.7/dist-packages (from distributed>=2.22.0->modin[dask]) (1.0.2)\n",
            "Requirement already satisfied: jinja2 in /usr/local/lib/python3.7/dist-packages (from distributed>=2.22.0->modin[dask]) (2.11.3)\n",
            "Requirement already satisfied: tblib>=1.6.0 in /usr/local/lib/python3.7/dist-packages (from distributed>=2.22.0->modin[dask]) (1.7.0)\n",
            "Requirement already satisfied: pyparsing>=2.0.2 in /usr/local/lib/python3.7/dist-packages (from packaging->modin[dask]) (2.4.7)\n",
            "Requirement already satisfied: locket in /usr/local/lib/python3.7/dist-packages (from partd>=0.3.10->dask>=2.22.0->modin[dask]) (0.2.1)\n",
            "Requirement already satisfied: six>=1.5 in /usr/local/lib/python3.7/dist-packages (from python-dateutil>=2.7.3->pandas==1.3.2->modin[dask]) (1.15.0)\n",
            "Requirement already satisfied: heapdict in /usr/local/lib/python3.7/dist-packages (from zict>=0.1.3->distributed>=2.22.0->modin[dask]) (1.0.1)\n",
            "Requirement already satisfied: MarkupSafe>=0.23 in /usr/local/lib/python3.7/dist-packages (from jinja2->distributed>=2.22.0->modin[dask]) (2.0.1)\n"
          ]
        }
      ]
    },
    {
      "cell_type": "code",
      "metadata": {
        "id": "kRkScXaslT7E"
      },
      "source": [
        "import os\n",
        "os.environ['MODIN_ENGINE']= \"dask\""
      ],
      "execution_count": null,
      "outputs": []
    },
    {
      "cell_type": "code",
      "metadata": {
        "id": "EaDNYPYIlfp4"
      },
      "source": [
        "import modin.pandas as pd"
      ],
      "execution_count": null,
      "outputs": []
    },
    {
      "cell_type": "code",
      "metadata": {
        "id": "0bYwASnxnYiV"
      },
      "source": [
        "from distributed import Client\n",
        "client=Client()"
      ],
      "execution_count": null,
      "outputs": []
    },
    {
      "cell_type": "code",
      "metadata": {
        "id": "PvDw7vqfoRqp"
      },
      "source": [
        "import csv"
      ],
      "execution_count": null,
      "outputs": []
    },
    {
      "cell_type": "code",
      "metadata": {
        "colab": {
          "base_uri": "https://localhost:8080/"
        },
        "id": "4h9QSlJFlkkd",
        "outputId": "83809bc5-336d-49e7-8916-4f3020095765"
      },
      "source": [
        "%time dask_df=pd.read_csv('/content/drive/MyDrive/dataglacier/parking_violation.csv',delimiter=\"\\t\",quoting=csv.QUOTE_NONE,encoding='utf-8')"
      ],
      "execution_count": null,
      "outputs": [
        {
          "output_type": "stream",
          "name": "stdout",
          "text": [
            "CPU times: user 5.24 s, sys: 702 ms, total: 5.94 s\n",
            "Wall time: 1min 33s\n"
          ]
        }
      ]
    },
    {
      "cell_type": "code",
      "metadata": {
        "id": "-uw8MjVhe9iD"
      },
      "source": [
        "import dask.dataframe as dd"
      ],
      "execution_count": null,
      "outputs": []
    },
    {
      "cell_type": "code",
      "metadata": {
        "colab": {
          "base_uri": "https://localhost:8080/"
        },
        "id": "Narq9d1lf7vB",
        "outputId": "3a350167-e22e-4400-9645-377f2ad53bd5"
      },
      "source": [
        "%time dask_pd=dd.read_csv('/content/drive/MyDrive/dataglacier/parking_violation.csv')"
      ],
      "execution_count": null,
      "outputs": [
        {
          "output_type": "stream",
          "name": "stdout",
          "text": [
            "CPU times: user 24.4 ms, sys: 84.6 ms, total: 109 ms\n",
            "Wall time: 137 ms\n"
          ]
        }
      ]
    },
    {
      "cell_type": "code",
      "metadata": {
        "id": "PFZ8fZyfpV69",
        "colab": {
          "base_uri": "https://localhost:8080/"
        },
        "outputId": "620566e5-7e3e-45c2-9b49-09e9a8b475ff"
      },
      "source": [
        "%time df1 = dask_pd.append(dask_pd)\n",
        "%time df2 = dask_df.append(dask_df)"
      ],
      "execution_count": null,
      "outputs": [
        {
          "output_type": "stream",
          "name": "stdout",
          "text": [
            "CPU times: user 64.7 ms, sys: 5.06 ms, total: 69.8 ms\n",
            "Wall time: 77.1 ms\n"
          ]
        },
        {
          "output_type": "stream",
          "name": "stderr",
          "text": [
            "UserWarning: Due to https://github.com/pandas-dev/pandas/issues/35092, Pandas ignores sort=False; Modin correctly does not sort.\n"
          ]
        },
        {
          "output_type": "stream",
          "name": "stdout",
          "text": [
            "CPU times: user 69.2 ms, sys: 227 ms, total: 296 ms\n",
            "Wall time: 297 ms\n"
          ]
        }
      ]
    },
    {
      "cell_type": "code",
      "metadata": {
        "id": "Z4K9ykLYcpGd"
      },
      "source": [
        "df=dask_pd.copy()"
      ],
      "execution_count": null,
      "outputs": []
    },
    {
      "cell_type": "code",
      "metadata": {
        "id": "uiGsg3tQc1XN",
        "colab": {
          "base_uri": "https://localhost:8080/"
        },
        "outputId": "79133897-6ccd-41c1-c416-3d78f95a2e3d"
      },
      "source": [
        "df.columns"
      ],
      "execution_count": null,
      "outputs": [
        {
          "output_type": "execute_result",
          "data": {
            "text/plain": [
              "Index(['Unnamed: 0', 'Summons_Number', 'Plate_ID', 'Registration_State',\n",
              "       'Plate_Type', 'Issue_Date', 'Violation_Code', 'Vehicle_Body_Type',\n",
              "       'Vehicle_Make', 'Issuing_Agency', 'Street_Code1', 'Street_Code2',\n",
              "       'Street_Code3', 'Vehicle_Expiration_Date', 'Violation_Location',\n",
              "       'Violation_Precinct', 'Issuer_Precinct', 'Issuer_Code',\n",
              "       'Issuer_Command', 'Issuer_Squad', 'Violation_Time',\n",
              "       'Time_First_Observed', 'Violation_County',\n",
              "       'Violation_In_Front_Of_Or_Opposite', 'House_Number', 'Street_Name',\n",
              "       'Intersecting_Street', 'Date_First_Observed', 'Law_Section',\n",
              "       'Sub_Division', 'Violation_Legal_Code', 'Days_Parking_In_Effect____',\n",
              "       'From_Hours_In_Effect', 'To_Hours_In_Effect', 'Vehicle_Color',\n",
              "       'Unregistered_Vehicle?', 'Vehicle_Year', 'Meter_Number',\n",
              "       'Feet_From_Curb', 'Violation_Post_Code', 'Violation_Description',\n",
              "       'No_Standing_or_Stopping_Violation', 'Hydrant_Violation',\n",
              "       'Double_Parking_Violation', 'Latitude', 'Longitude', 'Community_Board',\n",
              "       'Community_Council_', 'Census_Tract', 'BIN', 'BBL', 'NTA', 'year',\n",
              "       'month'],\n",
              "      dtype='object')"
            ]
          },
          "metadata": {},
          "execution_count": 18
        }
      ]
    },
    {
      "cell_type": "code",
      "metadata": {
        "id": "H17JOe07dKt2",
        "colab": {
          "base_uri": "https://localhost:8080/"
        },
        "outputId": "79533501-ef2f-49b4-9bcd-1344b620ce98"
      },
      "source": [
        "df.dtypes"
      ],
      "execution_count": null,
      "outputs": [
        {
          "output_type": "execute_result",
          "data": {
            "text/plain": [
              "Unnamed: 0                             int64\n",
              "Summons_Number                         int64\n",
              "Plate_ID                              object\n",
              "Registration_State                    object\n",
              "Plate_Type                            object\n",
              "Issue_Date                            object\n",
              "Violation_Code                         int64\n",
              "Vehicle_Body_Type                     object\n",
              "Vehicle_Make                          object\n",
              "Issuing_Agency                        object\n",
              "Street_Code1                           int64\n",
              "Street_Code2                           int64\n",
              "Street_Code3                           int64\n",
              "Vehicle_Expiration_Date               object\n",
              "Violation_Location                   float64\n",
              "Violation_Precinct                     int64\n",
              "Issuer_Precinct                        int64\n",
              "Issuer_Code                            int64\n",
              "Issuer_Command                        object\n",
              "Issuer_Squad                          object\n",
              "Violation_Time                        object\n",
              "Time_First_Observed                  float64\n",
              "Violation_County                      object\n",
              "Violation_In_Front_Of_Or_Opposite     object\n",
              "House_Number                          object\n",
              "Street_Name                           object\n",
              "Intersecting_Street                   object\n",
              "Date_First_Observed                   object\n",
              "Law_Section                          float64\n",
              "Sub_Division                          object\n",
              "Violation_Legal_Code                 float64\n",
              "Days_Parking_In_Effect____            object\n",
              "From_Hours_In_Effect                  object\n",
              "To_Hours_In_Effect                    object\n",
              "Vehicle_Color                         object\n",
              "Unregistered_Vehicle?                float64\n",
              "Vehicle_Year                         float64\n",
              "Meter_Number                         float64\n",
              "Feet_From_Curb                       float64\n",
              "Violation_Post_Code                   object\n",
              "Violation_Description                 object\n",
              "No_Standing_or_Stopping_Violation    float64\n",
              "Hydrant_Violation                    float64\n",
              "Double_Parking_Violation             float64\n",
              "Latitude                             float64\n",
              "Longitude                            float64\n",
              "Community_Board                      float64\n",
              "Community_Council_                   float64\n",
              "Census_Tract                         float64\n",
              "BIN                                  float64\n",
              "BBL                                  float64\n",
              "NTA                                  float64\n",
              "year                                   int64\n",
              "month                                  int64\n",
              "dtype: object"
            ]
          },
          "metadata": {},
          "execution_count": 19
        }
      ]
    },
    {
      "cell_type": "code",
      "metadata": {
        "id": "JAwwiWuTdZlE",
        "colab": {
          "base_uri": "https://localhost:8080/"
        },
        "outputId": "c7c04d0a-0168-4df7-a41c-661032ee719d"
      },
      "source": [
        "df.shape"
      ],
      "execution_count": null,
      "outputs": [
        {
          "output_type": "execute_result",
          "data": {
            "text/plain": [
              "(Delayed('int-aa04eb3d-eb01-4cbb-aa77-faa689c31469'), 54)"
            ]
          },
          "metadata": {},
          "execution_count": 20
        }
      ]
    }
  ]
}